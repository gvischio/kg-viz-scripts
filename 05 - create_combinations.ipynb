{
 "cells": [
  {
   "cell_type": "code",
   "execution_count": 1,
   "metadata": {},
   "outputs": [],
   "source": [
    "import pandas as pd"
   ]
  },
  {
   "cell_type": "code",
   "execution_count": 20,
   "metadata": {},
   "outputs": [],
   "source": [
    "home = list()\n",
    "home_sub = list()\n",
    "relatives = list()\n",
    "rel_region = list()"
   ]
  },
  {
   "cell_type": "code",
   "execution_count": 21,
   "metadata": {},
   "outputs": [],
   "source": [
    "for i in range(158):\n",
    "    df = pd.read_csv(\"../03 - Combined/user\"+str(i)+\".csv\")\n",
    "    homedf = df[df['where'] == \"Home\"]\n",
    "    home.append(homedf['city'].fillna(\"\").mode()[0] if not homedf.empty else \"\")\n",
    "    home_sub.append(homedf['suburb'].fillna(\"\").mode()[0] if not homedf.empty else \"\")\n",
    "    reldf = df[df['where'] == \"Relatives home\"]\n",
    "    relatives.append(reldf['city'].fillna(\"\").mode()[0] if not reldf.empty else \"\")\n",
    "    rel_region.append(reldf['region'].fillna(\"\").mode()[0] if not reldf.empty else \"\")"
   ]
  },
  {
   "cell_type": "code",
   "execution_count": 23,
   "metadata": {},
   "outputs": [],
   "source": [
    "finaldf = pd.DataFrame([x for x in range (158)], columns=['userid'])\n",
    "finaldf['home_sub'] = home_sub\n",
    "finaldf['home_city'] = home\n",
    "finaldf['relatives_city'] = relatives\n",
    "finaldf['relatives_region'] = rel_region\n",
    "finaldf.to_csv(\"userCities.csv\", index=False)"
   ]
  },
  {
   "cell_type": "markdown",
   "metadata": {},
   "source": [
    "From here, heuristic was used to create some combinations of users which seems to have common characteristics in terms of home location."
   ]
  },
  {
   "cell_type": "code",
   "execution_count": 48,
   "metadata": {},
   "outputs": [],
   "source": [
    "all = [x for x in range (158)]\n",
    "avoid = [8, 12, 17, 36, 38, 49, 54, 64, 65, 72, 75, 79, 90, 103, 116, 138]\n",
    "listone = []\n",
    "c1 = [13, 24, 30, 40, 53, 77, 93, 107, 118, 126, 136, 155]\n",
    "c2 = [7, 21, 22, 48, 56, 66, 70, 86, 102, 104, 144, 151]\n",
    "c3 = [5, 41, 43, 55, 82, 117, 121, 122, 132, 133, 135, 148]\n",
    "c4 = [4, 14, 16, 20, 44, 61, 68, 74, 95, 109, 114, 115]\n",
    "c5 = [2, 6, 9, 23, 45, 52, 87, 106, 125, 141, 142, 153]\n",
    "c6 = [1, 18, 49, 78, 92, 99, 100, 119, 130, 139, 146, 156]"
   ]
  },
  {
   "cell_type": "code",
   "execution_count": 49,
   "metadata": {},
   "outputs": [
    {
     "name": "stdout",
     "output_type": "stream",
     "text": [
      "88\n"
     ]
    }
   ],
   "source": [
    "avoid.extend(c1)\n",
    "avoid.extend(c2)\n",
    "avoid.extend(c3)\n",
    "avoid.extend(c4)\n",
    "avoid.extend(c5)\n",
    "avoid.extend(c6)\n",
    "eliminated = set(avoid)\n",
    "remaining = set(all) - eliminated\n",
    "remaining = list(remaining)"
   ]
  },
  {
   "cell_type": "code",
   "execution_count": 50,
   "metadata": {},
   "outputs": [
    {
     "data": {
      "text/plain": [
       "[[13, 24, 30, 40, 53, 77, 93, 107, 118, 126, 136, 155],\n",
       " [7, 21, 22, 48, 56, 66, 70, 86, 102, 104, 144, 151],\n",
       " [5, 41, 43, 55, 82, 117, 121, 122, 132, 133, 135, 148],\n",
       " [4, 14, 16, 20, 44, 61, 68, 74, 95, 109, 114, 115],\n",
       " [2, 6, 9, 23, 45, 52, 87, 106, 125, 141, 142, 153],\n",
       " [1, 18, 49, 78, 92, 99, 100, 119, 130, 139, 146, 156],\n",
       " [0, 19, 25, 33, 34, 37, 46, 60, 97, 120, 128, 149],\n",
       " [11, 15, 50, 62, 63, 101, 110, 111, 113, 127, 150, 157],\n",
       " [35, 57, 69, 73, 76, 84, 91, 98, 124, 129, 140, 152],\n",
       " [10, 26, 27, 39, 42, 47, 51, 67, 81, 85, 88, 112],\n",
       " [29, 31, 58, 59, 80, 94, 96, 105, 131, 137, 145, 154]]"
      ]
     },
     "execution_count": 50,
     "metadata": {},
     "output_type": "execute_result"
    }
   ],
   "source": [
    "import random\n",
    "random.shuffle(remaining)\n",
    "listone.append(c1)\n",
    "listone.append(c2)\n",
    "listone.append(c3)\n",
    "listone.append(c4)\n",
    "listone.append(c5)\n",
    "listone.append(c6)\n",
    "while(len(remaining) >= 12):\n",
    "    extracted = remaining[:12]\n",
    "    extracted.sort()\n",
    "    listone.append(extracted)\n",
    "    remaining = remaining[12:]\n",
    "listone"
   ]
  }
 ],
 "metadata": {
  "interpreter": {
   "hash": "6d1e45cadc3597bb8b6600530fbdf8c3eefe919a24ef54d9d32b318795b772e0"
  },
  "kernelspec": {
   "display_name": "Python 3.8.2 32-bit",
   "language": "python",
   "name": "python3"
  },
  "language_info": {
   "codemirror_mode": {
    "name": "ipython",
    "version": 3
   },
   "file_extension": ".py",
   "mimetype": "text/x-python",
   "name": "python",
   "nbconvert_exporter": "python",
   "pygments_lexer": "ipython3",
   "version": "3.8.2"
  },
  "orig_nbformat": 4
 },
 "nbformat": 4,
 "nbformat_minor": 2
}
